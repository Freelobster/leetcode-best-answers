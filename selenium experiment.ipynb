{
 "cells": [
  {
   "cell_type": "code",
   "execution_count": 2,
   "metadata": {
    "collapsed": true
   },
   "outputs": [],
   "source": [
    "import os\n",
    "import time"
   ]
  },
  {
   "cell_type": "code",
   "execution_count": 12,
   "metadata": {
    "collapsed": true
   },
   "outputs": [],
   "source": [
    "import requests"
   ]
  },
  {
   "cell_type": "code",
   "execution_count": 48,
   "metadata": {
    "collapsed": false
   },
   "outputs": [],
   "source": [
    "from selenium import webdriver\n",
    "from selenium.webdriver.common.keys import Keys\n",
    "from pyvirtualdisplay import Display"
   ]
  },
  {
   "cell_type": "code",
   "execution_count": 13,
   "metadata": {
    "collapsed": true
   },
   "outputs": [],
   "source": [
    "from pymongo import MongoClient"
   ]
  },
  {
   "cell_type": "code",
   "execution_count": 14,
   "metadata": {
    "collapsed": true
   },
   "outputs": [],
   "source": [
    "HOST_IP = 'localhost'\n",
    "DB_PORT = 27017\n",
    "client = MongoClient(HOST_IP, DB_PORT)\n",
    "db = client.leetcode\n",
    "collection = db.answers"
   ]
  },
  {
   "cell_type": "code",
   "execution_count": 41,
   "metadata": {
    "collapsed": true
   },
   "outputs": [],
   "source": [
    "def get_answer_urls(url):\n",
    "    \"\"\" return at most 10 top voted answers\n",
    "    \"\"\"\n",
    "    driver.get(url)\n",
    "    time.sleep(2)\n",
    "    dropdown_buttons = driver.find_elements_by_css_selector('button.dropdown-toggle')\n",
    "    assert len(dropdown_buttons) == 2\n",
    "    dropdown_buttons[1].click()\n",
    "    time.sleep(2)\n",
    "    driver.find_element_by_css_selector('a.most_votes').click()\n",
    "    time.sleep(5)\n",
    "    elements = driver.find_elements_by_css_selector('ul.topic-list h2.title > a')[:10]\n",
    "    links = [ele.get_attribute(\"href\") for ele in elements]\n",
    "    return links"
   ]
  },
  {
   "cell_type": "code",
   "execution_count": 45,
   "metadata": {
    "collapsed": true
   },
   "outputs": [],
   "source": [
    "def get_answer(url):\n",
    "    \"\"\" element.get_attribute('innerHTML')\n",
    "    elem.get_attribute(\"outerHTML\")\n",
    "    \"\"\"\n",
    "    answer = {}\n",
    "    driver.get(url)\n",
    "    time.sleep(2)\n",
    "    up_button = driver.find_element_by_css_selector('li i.fa-angle-double-up')\n",
    "    up_button.click()\n",
    "    driver.implicitly_wait(3)\n",
    "    answer[\"url\"] = url\n",
    "    author_element = driver.find_element_by_css_selector(\"span.username a\")\n",
    "    answer[\"author\"] = author_element.text\n",
    "    answer[\"author_url\"] = author_element.get_attribute('href')\n",
    "    vote_element = driver.find_element_by_css_selector(\"div.vote-count\")\n",
    "    answer[\"vote\"] = int(vote_element.text)\n",
    "    content_element = driver.find_element_by_css_selector(\"div.answer .content\")\n",
    "    answer[\"content\"] = content_element.get_attribute('outerHTML')\n",
    "    return answer"
   ]
  },
  {
   "cell_type": "code",
   "execution_count": 49,
   "metadata": {
    "collapsed": false
   },
   "outputs": [
    {
     "name": "stdout",
     "output_type": "stream",
     "text": [
      "There are 377 problems\n",
      "10\n",
      "[u'https://discuss.leetcode.com/topic/3294/accepted-c-o-n-solution/27', u'https://discuss.leetcode.com/topic/2447/accepted-java-o-n-solution/1', u'https://discuss.leetcode.com/topic/16687/my-short-java-solution-o-n-hashmap/10', u'https://discuss.leetcode.com/topic/6305/very-short-and-simple-java-code-for-two-sum', u'https://discuss.leetcode.com/topic/23004/here-is-a-python-solution-in-o-n-time/1', u'https://discuss.leetcode.com/topic/30840/twosum-java-code-using-hashmap', u'https://discuss.leetcode.com/topic/19960/11-lines-and-1-for-in-java', u'https://discuss.leetcode.com/topic/10725/python-solution-using-hash', u'https://discuss.leetcode.com/topic/9931/java-solution-using-hash-table/1', u'https://discuss.leetcode.com/topic/16406/accepted-c-solution-of-hashmap-in-4ms']\n",
      "{'url': u'https://discuss.leetcode.com/topic/3294/accepted-c-o-n-solution/27', 'vote': 139, 'content': u'\\n\\t\\t\\t<pre class=\"markdown-highlight\"><code class=\"hljs cpp\"><span class=\"hljs-built_in\">vector</span>&lt;<span class=\"hljs-keyword\">int</span>&gt; twoSum(<span class=\"hljs-built_in\">vector</span>&lt;<span class=\"hljs-keyword\">int</span>&gt; &amp;numbers, <span class=\"hljs-keyword\">int</span> target)\\n{\\n    <span class=\"hljs-comment\">//Key is the number and value is its index in the vector.</span>\\n\\t<span class=\"hljs-built_in\">unordered_map</span>&lt;<span class=\"hljs-keyword\">int</span>, <span class=\"hljs-keyword\">int</span>&gt; hash;\\n\\t<span class=\"hljs-built_in\">vector</span>&lt;<span class=\"hljs-keyword\">int</span>&gt; result;\\n\\t<span class=\"hljs-keyword\">for</span> (<span class=\"hljs-keyword\">int</span> i = <span class=\"hljs-number\">0</span>; i &lt; numbers.size(); i++) {\\n\\t\\t<span class=\"hljs-keyword\">int</span> numberToFind = target - numbers[i];\\n\\n            <span class=\"hljs-comment\">//if numberToFind is found in map, return them</span>\\n\\t\\t<span class=\"hljs-keyword\">if</span> (hash.find(numberToFind) != hash.end()) {\\n                    <span class=\"hljs-comment\">//+1 because indices are NOT zero based</span>\\n\\t\\t\\tresult.push_back(hash[numberToFind] + <span class=\"hljs-number\">1</span>);\\n\\t\\t\\tresult.push_back(i + <span class=\"hljs-number\">1</span>);\\t\\t\\t\\n\\t\\t\\t<span class=\"hljs-keyword\">return</span> result;\\n\\t\\t}\\n\\n            <span class=\"hljs-comment\">//number was not found. Put it in the map.</span>\\n\\t\\thash[numbers[i]] = i;\\n\\t}\\n\\t<span class=\"hljs-keyword\">return</span> result;\\n}</code></pre>\\n\\n\\t\\t', 'author_url': u'https://discuss.leetcode.com/user/naveed-zafar', 'author': u'naveed.zafar'}\n"
     ]
    },
    {
     "data": {
      "text/plain": [
       "<Display cmd_param=['Xvfb', '-br', '-nolisten', 'tcp', '-screen', '0', '800x600x24', ':1009'] cmd=['Xvfb', '-br', '-nolisten', 'tcp', '-screen', '0', '800x600x24', ':1009'] oserror=None returncode=0 stdout=\"\" stderr=\"\" timeout=False>"
      ]
     },
     "execution_count": 49,
     "metadata": {},
     "output_type": "execute_result"
    }
   ],
   "source": [
    "chrome_driver = \"/home/eric/hub/personal/leetcode-best-answers/chromedriver\"\n",
    "# chrome_driver = \"/Users/Jing/Awesome/github/leetcode-best-answers/chromedriver_mac\"\n",
    "os.environ[\"webdriver.chrome.driver\"] = chrome_driver\n",
    "display = Display(visible=0, size=(1800, 900))\n",
    "display.start()\n",
    "driver = webdriver.Chrome(chrome_driver)\n",
    "driver.set_window_size(1280, 800)\n",
    "driver.get(\"https://discuss.leetcode.com/category/8/oj\")\n",
    "time.sleep(2)\n",
    "driver.find_element_by_link_text(\"Login\").click()\n",
    "time.sleep(2)\n",
    "username = driver.find_element_by_id(\"id_login\")\n",
    "password = driver.find_element_by_id(\"id_password\")\n",
    "username.send_keys(\"...@gmail.com\")\n",
    "password.send_keys(\"...\")\n",
    "driver.find_element_by_css_selector('button.btn-primary').click()\n",
    "time.sleep(2)\n",
    "driver.get(\"https://discuss.leetcode.com/category/8/oj\")\n",
    "time.sleep(2)\n",
    "links = [link.get_attribute(\"href\") for link in driver.find_elements_by_css_selector('ul.categories h2 a')]\n",
    "print \"There are\", len(links), \"problems\"\n",
    "for link in links:\n",
    "    answer_urls = get_answer_urls(link)\n",
    "    print len(answer_urls)\n",
    "    print answer_urls\n",
    "    for answer_url in answer_urls:\n",
    "        answer = get_answer(answer_url)\n",
    "        # write answer into the database\n",
    "        print answer\n",
    "        break\n",
    "    break\n",
    "\n",
    "time.sleep(5)\n",
    "driver.quit()\n",
    "display.stop()"
   ]
  },
  {
   "cell_type": "code",
   "execution_count": null,
   "metadata": {
    "collapsed": true
   },
   "outputs": [],
   "source": [
    "\"\"\"\n",
    "# could be useful in the future\n",
    "cookies = driver.get_cookies()\n",
    "headers = {\n",
    "\"User-Agent\":\n",
    "    \"Mozilla/5.0 (Windows NT 6.3; WOW64) AppleWebKit/537.36 (KHTML, like Gecko) Chrome/44.0.2403.157 Safari/537.36\"\n",
    "}\n",
    "s = requests.session()\n",
    "s.headers.update(headers)\n",
    "\n",
    "for cookie in driver.get_cookies():\n",
    "    c = {cookie['name']: cookie['value']}\n",
    "    s.cookies.update(c)\n",
    "\"\"\""
   ]
  }
 ],
 "metadata": {
  "kernelspec": {
   "display_name": "Python 2",
   "language": "python",
   "name": "python2"
  },
  "language_info": {
   "codemirror_mode": {
    "name": "ipython",
    "version": 2
   },
   "file_extension": ".py",
   "mimetype": "text/x-python",
   "name": "python",
   "nbconvert_exporter": "python",
   "pygments_lexer": "ipython2",
   "version": "2.7.11+"
  }
 },
 "nbformat": 4,
 "nbformat_minor": 0
}
