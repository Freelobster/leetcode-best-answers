{
 "cells": [
  {
   "cell_type": "code",
   "execution_count": 4,
   "metadata": {
    "collapsed": true
   },
   "outputs": [],
   "source": [
    "import os\n",
    "import time"
   ]
  },
  {
   "cell_type": "code",
   "execution_count": 5,
   "metadata": {
    "collapsed": true
   },
   "outputs": [],
   "source": [
    "import requests"
   ]
  },
  {
   "cell_type": "code",
   "execution_count": 7,
   "metadata": {
    "collapsed": false
   },
   "outputs": [],
   "source": [
    "from selenium import webdriver\n",
    "from selenium.webdriver.common.keys import Keys\n",
    "from pyvirtualdisplay import Display"
   ]
  },
  {
   "cell_type": "code",
   "execution_count": 9,
   "metadata": {
    "collapsed": false
   },
   "outputs": [],
   "source": [
    "from pymongo import MongoClient"
   ]
  },
  {
   "cell_type": "code",
   "execution_count": 10,
   "metadata": {
    "collapsed": true
   },
   "outputs": [],
   "source": [
    "HOST_IP = 'localhost'\n",
    "DB_PORT = 27017\n",
    "client = MongoClient(HOST_IP, DB_PORT)\n",
    "db = client.leetcode\n",
    "collection = db.answers"
   ]
  },
  {
   "cell_type": "code",
   "execution_count": 26,
   "metadata": {
    "collapsed": true
   },
   "outputs": [],
   "source": [
    "def get_answer_urls(url):\n",
    "    \"\"\" return at most 10 top voted answers\n",
    "    \"\"\"\n",
    "    driver.get(url)\n",
    "    time.sleep(3)\n",
    "    dropdown_buttons = driver.find_elements_by_css_selector('button.dropdown-toggle')\n",
    "    assert len(dropdown_buttons) == 2\n",
    "    dropdown_buttons[1].click()\n",
    "    time.sleep(2)\n",
    "    driver.find_element_by_css_selector('a.most_votes').click()\n",
    "    time.sleep(5)\n",
    "    elements = driver.find_elements_by_css_selector('ul.topic-list h2.title > a')[:10]\n",
    "    links = [ele.get_attribute(\"href\") for ele in elements]\n",
    "    return links"
   ]
  },
  {
   "cell_type": "code",
   "execution_count": 12,
   "metadata": {
    "collapsed": true
   },
   "outputs": [],
   "source": [
    "def get_answer(url):\n",
    "    \"\"\" element.get_attribute('innerHTML')\n",
    "    elem.get_attribute(\"outerHTML\")\n",
    "    \"\"\"\n",
    "    answer = {}\n",
    "    driver.get(url)\n",
    "    time.sleep(2)\n",
    "    up_button = driver.find_element_by_css_selector('li i.fa-angle-double-up')\n",
    "    up_button.click()\n",
    "    driver.implicitly_wait(3)\n",
    "    answer[\"url\"] = url\n",
    "    author_element = driver.find_element_by_css_selector(\"span.username a\")\n",
    "    answer[\"author\"] = author_element.text\n",
    "    answer[\"author_url\"] = author_element.get_attribute('href')\n",
    "    vote_element = driver.find_element_by_css_selector(\"div.vote-count\")\n",
    "    answer[\"vote\"] = int(vote_element.text)\n",
    "    content_element = driver.find_element_by_css_selector(\"div.answer .content\")\n",
    "    answer[\"content\"] = content_element.get_attribute('outerHTML')\n",
    "    question_element = driver.find_element_by_css_selector(\"a#back_to_leetcode\")\n",
    "    question_url = question_element.get_attribute('href')\n",
    "    answer[\"question_url\"] = question_url\n",
    "    return answer"
   ]
  },
  {
   "cell_type": "code",
   "execution_count": 20,
   "metadata": {
    "collapsed": true
   },
   "outputs": [],
   "source": [
    "def get_real_url(url):\n",
    "    url_list = url.split('/')\n",
    "    try:\n",
    "        num = int(url_list[-1])\n",
    "        return \"/\".join(url_list[:-1])\n",
    "    except:\n",
    "        return url"
   ]
  },
  {
   "cell_type": "code",
   "execution_count": 27,
   "metadata": {
    "collapsed": false,
    "scrolled": true
   },
   "outputs": [
    {
     "name": "stdout",
     "output_type": "stream",
     "text": [
      "There are 377 problems\n",
      "getting ... https://discuss.leetcode.com/category/497/combination-sum-iv\n",
      "10\n",
      "getting ... https://discuss.leetcode.com/category/496/wiggle-subsequence\n",
      "10\n",
      "getting ... https://discuss.leetcode.com/category/495/guess-number-higher-or-lower-ii\n",
      "10\n",
      "getting ... https://discuss.leetcode.com/category/492/guess-number-higher-or-lower\n",
      "10\n",
      "getting ... https://discuss.leetcode.com/category/491/find-k-pairs-with-smallest-sums\n",
      "10\n",
      "getting ... https://discuss.leetcode.com/category/490/super-pow\n",
      "10\n",
      "getting ... https://discuss.leetcode.com/category/455/sum-of-two-integers\n",
      "10\n",
      "getting ... https://discuss.leetcode.com/category/454/range-addition\n",
      "10\n",
      "getting ... https://discuss.leetcode.com/category/453/plus-one-linked-list\n",
      "10\n",
      "getting ... https://discuss.leetcode.com/category/452/largest-divisible-subset\n",
      "10\n",
      "getting ... https://discuss.leetcode.com/category/451/valid-perfect-square\n",
      "10\n"
     ]
    }
   ],
   "source": [
    "# chrome_driver = \"/home/eric/hub/personal/leetcode-best-answers/chromedriver\"\n",
    "chrome_driver = \"/Users/Jing/Awesome/github/leetcode-best-answers/chromedriver_mac\"\n",
    "os.environ[\"webdriver.chrome.driver\"] = chrome_driver\n",
    "# display = Display(visible=0, size=(1800, 900))\n",
    "# display.start()\n",
    "driver = webdriver.Chrome(chrome_driver)\n",
    "#driver.set_window_size(1280, 800)\n",
    "driver.get(\"https://discuss.leetcode.com/category/8/oj\")\n",
    "time.sleep(2)\n",
    "driver.find_element_by_link_text(\"Login\").click()\n",
    "time.sleep(2)\n",
    "username = driver.find_element_by_id(\"id_login\")\n",
    "password = driver.find_element_by_id(\"id_password\")\n",
    "# your password!\n",
    "username.send_keys(\"...@gmail.com\")\n",
    "password.send_keys(\"...\")\n",
    "driver.find_element_by_css_selector('button.btn-primary').click()\n",
    "time.sleep(2)\n",
    "driver.get(\"https://discuss.leetcode.com/category/8/oj\")\n",
    "time.sleep(2)\n",
    "links = [link.get_attribute(\"href\") for link in driver.find_elements_by_css_selector('ul.categories h2 a')]\n",
    "print \"There are\", len(links), \"problems\"\n",
    "\n",
    "with open('urls.txt', 'w') as urls:\n",
    "    for link in reversed(links[-11:]):\n",
    "        print \"getting ...\", link\n",
    "        answer_urls = get_answer_urls(link)\n",
    "        print len(answer_urls)\n",
    "        for answer_url in answer_urls:\n",
    "            real_answer_url = get_real_url(answer_url)\n",
    "            urls.write(real_answer_url + \"\\n\")\n",
    "            # answer = get_answer(real_answer_url)\n",
    "            # write answer into the database\n",
    "time.sleep(5)\n",
    "driver.quit()\n",
    "# display.stop()"
   ]
  },
  {
   "cell_type": "code",
   "execution_count": 28,
   "metadata": {
    "collapsed": true
   },
   "outputs": [],
   "source": [
    "!open urls.txt"
   ]
  },
  {
   "cell_type": "code",
   "execution_count": null,
   "metadata": {
    "collapsed": true
   },
   "outputs": [],
   "source": [
    "\"\"\"\n",
    "# could be useful in the future\n",
    "cookies = driver.get_cookies()\n",
    "headers = {\n",
    "\"User-Agent\":\n",
    "    \"Mozilla/5.0 (Windows NT 6.3; WOW64) AppleWebKit/537.36 (KHTML, like Gecko) Chrome/44.0.2403.157 Safari/537.36\"\n",
    "}\n",
    "s = requests.session()\n",
    "s.headers.update(headers)\n",
    "\n",
    "for cookie in driver.get_cookies():\n",
    "    c = {cookie['name']: cookie['value']}\n",
    "    s.cookies.update(c)\n",
    "\"\"\""
   ]
  }
 ],
 "metadata": {
  "kernelspec": {
   "display_name": "Python 2",
   "language": "python",
   "name": "python2"
  },
  "language_info": {
   "codemirror_mode": {
    "name": "ipython",
    "version": 2
   },
   "file_extension": ".py",
   "mimetype": "text/x-python",
   "name": "python",
   "nbconvert_exporter": "python",
   "pygments_lexer": "ipython2",
   "version": "2.7.10"
  }
 },
 "nbformat": 4,
 "nbformat_minor": 0
}
