{
 "cells": [
  {
   "cell_type": "code",
   "execution_count": 12,
   "metadata": {
    "collapsed": true
   },
   "outputs": [],
   "source": [
    "import os\n",
    "import time"
   ]
  },
  {
   "cell_type": "code",
   "execution_count": 4,
   "metadata": {
    "collapsed": false
   },
   "outputs": [],
   "source": [
    "from selenium import webdriver\n",
    "from selenium.webdriver.common.keys import Keys"
   ]
  },
  {
   "cell_type": "code",
   "execution_count": 17,
   "metadata": {
    "collapsed": false
   },
   "outputs": [],
   "source": [
    "# chrome_driver = \"/home/eric/hub/personal/leetcode-best-answers/chromedriver\"\n",
    "chrome_driver = \"/Users/Jing/Awesome/github/leetcode-best-answers/chromedriver_mac\"\n",
    "os.environ[\"webdriver.chrome.driver\"] = chrome_driver\n",
    "driver = webdriver.Chrome(chrome_driver)\n",
    "driver.get(\"https://discuss.leetcode.com/category/8/oj\")\n",
    "time.sleep(5)\n",
    "\n",
    "driver.find_element_by_link_text(\"Login\").click()\n",
    "time.sleep(5)\n",
    "username = driver.find_element_by_id(\"id_login\")\n",
    "password = driver.find_element_by_id(\"id_password\")\n",
    "username.send_keys(\"...@gmail.com\")\n",
    "password.send_keys(\"...\")\n",
    "driver.find_element_by_css_selector('button.btn-primary') .click()\n",
    "time.sleep(5)\n",
    "driver.get(\"https://discuss.leetcode.com/category/8/oj\")\n",
    "driver.quit()"
   ]
  }
 ],
 "metadata": {
  "kernelspec": {
   "display_name": "Python 2",
   "language": "python",
   "name": "python2"
  },
  "language_info": {
   "codemirror_mode": {
    "name": "ipython",
    "version": 2
   },
   "file_extension": ".py",
   "mimetype": "text/x-python",
   "name": "python",
   "nbconvert_exporter": "python",
   "pygments_lexer": "ipython2",
   "version": "2.7.10"
  }
 },
 "nbformat": 4,
 "nbformat_minor": 0
}
